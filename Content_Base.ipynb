{
  "nbformat": 4,
  "nbformat_minor": 0,
  "metadata": {
    "colab": {
      "name": "Content Base.ipynb",
      "provenance": [],
      "collapsed_sections": []
    },
    "kernelspec": {
      "name": "python3",
      "display_name": "Python 3"
    }
  },
  "cells": [
    {
      "cell_type": "code",
      "metadata": {
        "id": "2SQcoKNCO44o",
        "colab_type": "code",
        "colab": {}
      },
      "source": [
        "import pandas as pd\n",
        "import numpy as np\n",
        "from sklearn.feature_extraction.text import CountVectorizer\n",
        "from sklearn.metrics.pairwise import cosine_similarity"
      ],
      "execution_count": 0,
      "outputs": []
    },
    {
      "cell_type": "code",
      "metadata": {
        "id": "UmVzxJWbO_sO",
        "colab_type": "code",
        "outputId": "d8260d3c-b829-4e62-c0e2-a423fd0d5cb9",
        "colab": {
          "base_uri": "https://localhost:8080/",
          "height": 34
        }
      },
      "source": [
        "from google.colab import drive\n",
        "drive.mount('/content/drive')"
      ],
      "execution_count": 0,
      "outputs": [
        {
          "output_type": "stream",
          "text": [
            "Drive already mounted at /content/drive; to attempt to forcibly remount, call drive.mount(\"/content/drive\", force_remount=True).\n"
          ],
          "name": "stdout"
        }
      ]
    },
    {
      "cell_type": "code",
      "metadata": {
        "id": "rg0xgnb2SH2A",
        "colab_type": "code",
        "outputId": "354ed0f4-8405-4b4a-a8eb-ff8bc40acca8",
        "colab": {
          "base_uri": "https://localhost:8080/",
          "height": 289
        }
      },
      "source": [
        "df=pd.read_csv(\"/content/drive/My Drive/Dataset/data.csv\")\n",
        "df.head(5)"
      ],
      "execution_count": 0,
      "outputs": [
        {
          "output_type": "execute_result",
          "data": {
            "text/html": [
              "<div>\n",
              "<style scoped>\n",
              "    .dataframe tbody tr th:only-of-type {\n",
              "        vertical-align: middle;\n",
              "    }\n",
              "\n",
              "    .dataframe tbody tr th {\n",
              "        vertical-align: top;\n",
              "    }\n",
              "\n",
              "    .dataframe thead th {\n",
              "        text-align: right;\n",
              "    }\n",
              "</style>\n",
              "<table border=\"1\" class=\"dataframe\">\n",
              "  <thead>\n",
              "    <tr style=\"text-align: right;\">\n",
              "      <th></th>\n",
              "      <th>id</th>\n",
              "      <th>book_id</th>\n",
              "      <th>authors</th>\n",
              "      <th>original_title</th>\n",
              "      <th>language_code</th>\n",
              "      <th>image_url</th>\n",
              "      <th>small_image_url</th>\n",
              "    </tr>\n",
              "  </thead>\n",
              "  <tbody>\n",
              "    <tr>\n",
              "      <th>0</th>\n",
              "      <td>0</td>\n",
              "      <td>1</td>\n",
              "      <td>J.K. Rowling, Mary GrandPré</td>\n",
              "      <td>Harry Potter and the Half-Blood Prince</td>\n",
              "      <td>eng</td>\n",
              "      <td>https://images.gr-assets.com/books/1361039191m...</td>\n",
              "      <td>https://images.gr-assets.com/books/1361039191s...</td>\n",
              "    </tr>\n",
              "    <tr>\n",
              "      <th>1</th>\n",
              "      <td>1</td>\n",
              "      <td>2</td>\n",
              "      <td>J.K. Rowling, Mary GrandPré</td>\n",
              "      <td>Harry Potter and the Order of the Phoenix</td>\n",
              "      <td>eng</td>\n",
              "      <td>https://images.gr-assets.com/books/1387141547m...</td>\n",
              "      <td>https://images.gr-assets.com/books/1387141547s...</td>\n",
              "    </tr>\n",
              "    <tr>\n",
              "      <th>2</th>\n",
              "      <td>2</td>\n",
              "      <td>3</td>\n",
              "      <td>J.K. Rowling, Mary GrandPré</td>\n",
              "      <td>Harry Potter and the Philosopher's Stone</td>\n",
              "      <td>eng</td>\n",
              "      <td>https://images.gr-assets.com/books/1474154022m...</td>\n",
              "      <td>https://images.gr-assets.com/books/1474154022s...</td>\n",
              "    </tr>\n",
              "    <tr>\n",
              "      <th>3</th>\n",
              "      <td>3</td>\n",
              "      <td>5</td>\n",
              "      <td>J.K. Rowling, Mary GrandPré, Rufus Beck</td>\n",
              "      <td>Harry Potter and the Prisoner of Azkaban</td>\n",
              "      <td>eng</td>\n",
              "      <td>https://images.gr-assets.com/books/1499277281m...</td>\n",
              "      <td>https://images.gr-assets.com/books/1499277281s...</td>\n",
              "    </tr>\n",
              "    <tr>\n",
              "      <th>4</th>\n",
              "      <td>4</td>\n",
              "      <td>6</td>\n",
              "      <td>J.K. Rowling, Mary GrandPré</td>\n",
              "      <td>Harry Potter and the Goblet of Fire</td>\n",
              "      <td>eng</td>\n",
              "      <td>https://images.gr-assets.com/books/1361482611m...</td>\n",
              "      <td>https://images.gr-assets.com/books/1361482611s...</td>\n",
              "    </tr>\n",
              "  </tbody>\n",
              "</table>\n",
              "</div>"
            ],
            "text/plain": [
              "   id  ...                                    small_image_url\n",
              "0   0  ...  https://images.gr-assets.com/books/1361039191s...\n",
              "1   1  ...  https://images.gr-assets.com/books/1387141547s...\n",
              "2   2  ...  https://images.gr-assets.com/books/1474154022s...\n",
              "3   3  ...  https://images.gr-assets.com/books/1499277281s...\n",
              "4   4  ...  https://images.gr-assets.com/books/1361482611s...\n",
              "\n",
              "[5 rows x 7 columns]"
            ]
          },
          "metadata": {
            "tags": []
          },
          "execution_count": 98
        }
      ]
    },
    {
      "cell_type": "code",
      "metadata": {
        "id": "QwpksRfpS2mD",
        "colab_type": "code",
        "outputId": "c4d63efd-9815-4f4a-f4d7-79c41d7833f4",
        "colab": {
          "base_uri": "https://localhost:8080/",
          "height": 289
        }
      },
      "source": [
        "df[\"authors\"]=df[\"authors\"]+\" \"+df[\"original_title\"]+\" \"+df[\"language_code\"]\n",
        "df.head(5)"
      ],
      "execution_count": 0,
      "outputs": [
        {
          "output_type": "execute_result",
          "data": {
            "text/html": [
              "<div>\n",
              "<style scoped>\n",
              "    .dataframe tbody tr th:only-of-type {\n",
              "        vertical-align: middle;\n",
              "    }\n",
              "\n",
              "    .dataframe tbody tr th {\n",
              "        vertical-align: top;\n",
              "    }\n",
              "\n",
              "    .dataframe thead th {\n",
              "        text-align: right;\n",
              "    }\n",
              "</style>\n",
              "<table border=\"1\" class=\"dataframe\">\n",
              "  <thead>\n",
              "    <tr style=\"text-align: right;\">\n",
              "      <th></th>\n",
              "      <th>id</th>\n",
              "      <th>book_id</th>\n",
              "      <th>authors</th>\n",
              "      <th>original_title</th>\n",
              "      <th>language_code</th>\n",
              "      <th>image_url</th>\n",
              "      <th>small_image_url</th>\n",
              "    </tr>\n",
              "  </thead>\n",
              "  <tbody>\n",
              "    <tr>\n",
              "      <th>0</th>\n",
              "      <td>0</td>\n",
              "      <td>1</td>\n",
              "      <td>J.K. Rowling, Mary GrandPré Harry Potter and t...</td>\n",
              "      <td>Harry Potter and the Half-Blood Prince</td>\n",
              "      <td>eng</td>\n",
              "      <td>https://images.gr-assets.com/books/1361039191m...</td>\n",
              "      <td>https://images.gr-assets.com/books/1361039191s...</td>\n",
              "    </tr>\n",
              "    <tr>\n",
              "      <th>1</th>\n",
              "      <td>1</td>\n",
              "      <td>2</td>\n",
              "      <td>J.K. Rowling, Mary GrandPré Harry Potter and t...</td>\n",
              "      <td>Harry Potter and the Order of the Phoenix</td>\n",
              "      <td>eng</td>\n",
              "      <td>https://images.gr-assets.com/books/1387141547m...</td>\n",
              "      <td>https://images.gr-assets.com/books/1387141547s...</td>\n",
              "    </tr>\n",
              "    <tr>\n",
              "      <th>2</th>\n",
              "      <td>2</td>\n",
              "      <td>3</td>\n",
              "      <td>J.K. Rowling, Mary GrandPré Harry Potter and t...</td>\n",
              "      <td>Harry Potter and the Philosopher's Stone</td>\n",
              "      <td>eng</td>\n",
              "      <td>https://images.gr-assets.com/books/1474154022m...</td>\n",
              "      <td>https://images.gr-assets.com/books/1474154022s...</td>\n",
              "    </tr>\n",
              "    <tr>\n",
              "      <th>3</th>\n",
              "      <td>3</td>\n",
              "      <td>5</td>\n",
              "      <td>J.K. Rowling, Mary GrandPré, Rufus Beck Harry ...</td>\n",
              "      <td>Harry Potter and the Prisoner of Azkaban</td>\n",
              "      <td>eng</td>\n",
              "      <td>https://images.gr-assets.com/books/1499277281m...</td>\n",
              "      <td>https://images.gr-assets.com/books/1499277281s...</td>\n",
              "    </tr>\n",
              "    <tr>\n",
              "      <th>4</th>\n",
              "      <td>4</td>\n",
              "      <td>6</td>\n",
              "      <td>J.K. Rowling, Mary GrandPré Harry Potter and t...</td>\n",
              "      <td>Harry Potter and the Goblet of Fire</td>\n",
              "      <td>eng</td>\n",
              "      <td>https://images.gr-assets.com/books/1361482611m...</td>\n",
              "      <td>https://images.gr-assets.com/books/1361482611s...</td>\n",
              "    </tr>\n",
              "  </tbody>\n",
              "</table>\n",
              "</div>"
            ],
            "text/plain": [
              "   id  ...                                    small_image_url\n",
              "0   0  ...  https://images.gr-assets.com/books/1361039191s...\n",
              "1   1  ...  https://images.gr-assets.com/books/1387141547s...\n",
              "2   2  ...  https://images.gr-assets.com/books/1474154022s...\n",
              "3   3  ...  https://images.gr-assets.com/books/1499277281s...\n",
              "4   4  ...  https://images.gr-assets.com/books/1361482611s...\n",
              "\n",
              "[5 rows x 7 columns]"
            ]
          },
          "metadata": {
            "tags": []
          },
          "execution_count": 99
        }
      ]
    },
    {
      "cell_type": "code",
      "metadata": {
        "id": "V3qrZ8QvWEIk",
        "colab_type": "code",
        "outputId": "d266bc1b-cef5-40ad-b5a4-709d52bcd88d",
        "colab": {
          "base_uri": "https://localhost:8080/",
          "height": 204
        }
      },
      "source": [
        "df.drop([\"language_code\",\"image_url\",\"small_image_url\"],axis=1,inplace=True)\n",
        "df.head(5)"
      ],
      "execution_count": 0,
      "outputs": [
        {
          "output_type": "execute_result",
          "data": {
            "text/html": [
              "<div>\n",
              "<style scoped>\n",
              "    .dataframe tbody tr th:only-of-type {\n",
              "        vertical-align: middle;\n",
              "    }\n",
              "\n",
              "    .dataframe tbody tr th {\n",
              "        vertical-align: top;\n",
              "    }\n",
              "\n",
              "    .dataframe thead th {\n",
              "        text-align: right;\n",
              "    }\n",
              "</style>\n",
              "<table border=\"1\" class=\"dataframe\">\n",
              "  <thead>\n",
              "    <tr style=\"text-align: right;\">\n",
              "      <th></th>\n",
              "      <th>id</th>\n",
              "      <th>book_id</th>\n",
              "      <th>authors</th>\n",
              "      <th>original_title</th>\n",
              "    </tr>\n",
              "  </thead>\n",
              "  <tbody>\n",
              "    <tr>\n",
              "      <th>0</th>\n",
              "      <td>0</td>\n",
              "      <td>1</td>\n",
              "      <td>J.K. Rowling, Mary GrandPré Harry Potter and t...</td>\n",
              "      <td>Harry Potter and the Half-Blood Prince</td>\n",
              "    </tr>\n",
              "    <tr>\n",
              "      <th>1</th>\n",
              "      <td>1</td>\n",
              "      <td>2</td>\n",
              "      <td>J.K. Rowling, Mary GrandPré Harry Potter and t...</td>\n",
              "      <td>Harry Potter and the Order of the Phoenix</td>\n",
              "    </tr>\n",
              "    <tr>\n",
              "      <th>2</th>\n",
              "      <td>2</td>\n",
              "      <td>3</td>\n",
              "      <td>J.K. Rowling, Mary GrandPré Harry Potter and t...</td>\n",
              "      <td>Harry Potter and the Philosopher's Stone</td>\n",
              "    </tr>\n",
              "    <tr>\n",
              "      <th>3</th>\n",
              "      <td>3</td>\n",
              "      <td>5</td>\n",
              "      <td>J.K. Rowling, Mary GrandPré, Rufus Beck Harry ...</td>\n",
              "      <td>Harry Potter and the Prisoner of Azkaban</td>\n",
              "    </tr>\n",
              "    <tr>\n",
              "      <th>4</th>\n",
              "      <td>4</td>\n",
              "      <td>6</td>\n",
              "      <td>J.K. Rowling, Mary GrandPré Harry Potter and t...</td>\n",
              "      <td>Harry Potter and the Goblet of Fire</td>\n",
              "    </tr>\n",
              "  </tbody>\n",
              "</table>\n",
              "</div>"
            ],
            "text/plain": [
              "   id  ...                             original_title\n",
              "0   0  ...     Harry Potter and the Half-Blood Prince\n",
              "1   1  ...  Harry Potter and the Order of the Phoenix\n",
              "2   2  ...   Harry Potter and the Philosopher's Stone\n",
              "3   3  ...   Harry Potter and the Prisoner of Azkaban\n",
              "4   4  ...        Harry Potter and the Goblet of Fire\n",
              "\n",
              "[5 rows x 4 columns]"
            ]
          },
          "metadata": {
            "tags": []
          },
          "execution_count": 100
        }
      ]
    },
    {
      "cell_type": "code",
      "metadata": {
        "id": "g9Iqz5EfW0Vs",
        "colab_type": "code",
        "outputId": "3174e5e9-a6a6-4b1e-8fc3-433cacc11e81",
        "colab": {
          "base_uri": "https://localhost:8080/",
          "height": 204
        }
      },
      "source": [
        "df=df.rename(columns={\"authors\":\"title\"})\n",
        "df.head(5)"
      ],
      "execution_count": 0,
      "outputs": [
        {
          "output_type": "execute_result",
          "data": {
            "text/html": [
              "<div>\n",
              "<style scoped>\n",
              "    .dataframe tbody tr th:only-of-type {\n",
              "        vertical-align: middle;\n",
              "    }\n",
              "\n",
              "    .dataframe tbody tr th {\n",
              "        vertical-align: top;\n",
              "    }\n",
              "\n",
              "    .dataframe thead th {\n",
              "        text-align: right;\n",
              "    }\n",
              "</style>\n",
              "<table border=\"1\" class=\"dataframe\">\n",
              "  <thead>\n",
              "    <tr style=\"text-align: right;\">\n",
              "      <th></th>\n",
              "      <th>id</th>\n",
              "      <th>book_id</th>\n",
              "      <th>title</th>\n",
              "      <th>original_title</th>\n",
              "    </tr>\n",
              "  </thead>\n",
              "  <tbody>\n",
              "    <tr>\n",
              "      <th>0</th>\n",
              "      <td>0</td>\n",
              "      <td>1</td>\n",
              "      <td>J.K. Rowling, Mary GrandPré Harry Potter and t...</td>\n",
              "      <td>Harry Potter and the Half-Blood Prince</td>\n",
              "    </tr>\n",
              "    <tr>\n",
              "      <th>1</th>\n",
              "      <td>1</td>\n",
              "      <td>2</td>\n",
              "      <td>J.K. Rowling, Mary GrandPré Harry Potter and t...</td>\n",
              "      <td>Harry Potter and the Order of the Phoenix</td>\n",
              "    </tr>\n",
              "    <tr>\n",
              "      <th>2</th>\n",
              "      <td>2</td>\n",
              "      <td>3</td>\n",
              "      <td>J.K. Rowling, Mary GrandPré Harry Potter and t...</td>\n",
              "      <td>Harry Potter and the Philosopher's Stone</td>\n",
              "    </tr>\n",
              "    <tr>\n",
              "      <th>3</th>\n",
              "      <td>3</td>\n",
              "      <td>5</td>\n",
              "      <td>J.K. Rowling, Mary GrandPré, Rufus Beck Harry ...</td>\n",
              "      <td>Harry Potter and the Prisoner of Azkaban</td>\n",
              "    </tr>\n",
              "    <tr>\n",
              "      <th>4</th>\n",
              "      <td>4</td>\n",
              "      <td>6</td>\n",
              "      <td>J.K. Rowling, Mary GrandPré Harry Potter and t...</td>\n",
              "      <td>Harry Potter and the Goblet of Fire</td>\n",
              "    </tr>\n",
              "  </tbody>\n",
              "</table>\n",
              "</div>"
            ],
            "text/plain": [
              "   id  ...                             original_title\n",
              "0   0  ...     Harry Potter and the Half-Blood Prince\n",
              "1   1  ...  Harry Potter and the Order of the Phoenix\n",
              "2   2  ...   Harry Potter and the Philosopher's Stone\n",
              "3   3  ...   Harry Potter and the Prisoner of Azkaban\n",
              "4   4  ...        Harry Potter and the Goblet of Fire\n",
              "\n",
              "[5 rows x 4 columns]"
            ]
          },
          "metadata": {
            "tags": []
          },
          "execution_count": 101
        }
      ]
    },
    {
      "cell_type": "code",
      "metadata": {
        "id": "PNg6_h4EZwuS",
        "colab_type": "code",
        "colab": {}
      },
      "source": [
        "def get_title_from_index(ind):\n",
        "  return df[df.id == ind][\"original_title\"].values[0]"
      ],
      "execution_count": 0,
      "outputs": []
    },
    {
      "cell_type": "code",
      "metadata": {
        "id": "BxuvLsu9aAvR",
        "colab_type": "code",
        "colab": {}
      },
      "source": [
        "def get_index_from_title(title):\n",
        "  return df[df.original_title == title][\"id\"].values[0]"
      ],
      "execution_count": 0,
      "outputs": []
    },
    {
      "cell_type": "code",
      "metadata": {
        "id": "Dv-RAv5xR23Z",
        "colab_type": "code",
        "colab": {}
      },
      "source": [
        "l=list(df.title)\n",
        "cv= CountVectorizer()\n",
        "count_matrix=cv.fit_transform(df.title)\n",
        "cosin_m=cosine_similarity(count_matrix)\n"
      ],
      "execution_count": 0,
      "outputs": []
    },
    {
      "cell_type": "code",
      "metadata": {
        "id": "o209PNgz3Ec6",
        "colab_type": "code",
        "colab": {}
      },
      "source": [
        "def get_items(title):\n",
        "  book_index=get_index_from_title(title)\n",
        "  similer_books=list(enumerate(cosin_m[book_index]))\n",
        "  sorted_similer_books=sorted(similer_books,key=lambda x:x[1],reverse=True)\n",
        "  l=list()\n",
        "  i=0\n",
        "  for element in sorted_similer_books:\n",
        "    l.append(get_title_from_index(element[0]))\n",
        "    i+=1\n",
        "    if i>10:\n",
        "      break\n",
        "  return l"
      ],
      "execution_count": 0,
      "outputs": []
    },
    {
      "cell_type": "code",
      "metadata": {
        "id": "qOZ8U_yqaXsz",
        "colab_type": "code",
        "outputId": "db224920-7d4b-4720-ce02-1fd8fcc9c8d8",
        "colab": {
          "base_uri": "https://localhost:8080/",
          "height": 204
        }
      },
      "source": [
        "get_items(\"The Hitchhiker's Guide to the Galaxy\")"
      ],
      "execution_count": 0,
      "outputs": [
        {
          "output_type": "execute_result",
          "data": {
            "text/plain": [
              "['Notes from a Big Country',\n",
              " 'Notes from a Small Island',\n",
              " 'A Short History of Nearly Everything',\n",
              " 'Neither Here Nor There: Travels in Europe',\n",
              " 'The Lost Continent: Travels in Small-Town America',\n",
              " 'The Mother Tongue: English and How It Got That Way',\n",
              " 'Down Under',\n",
              " 'Hatchet',\n",
              " \"The Hitchhiker's Guide to the Galaxy\",\n",
              " 'Harry Potter and the Half-Blood Prince',\n",
              " 'Harry Potter and the Order of the Phoenix']"
            ]
          },
          "metadata": {
            "tags": []
          },
          "execution_count": 117
        }
      ]
    }
  ]
}